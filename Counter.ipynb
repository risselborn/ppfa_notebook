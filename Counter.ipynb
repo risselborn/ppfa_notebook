{
 "cells": [
  {
   "cell_type": "markdown",
   "metadata": {},
   "source": [
    "# Identify duplicated words"
   ]
  },
  {
   "cell_type": "code",
   "execution_count": 10,
   "metadata": {
    "ExecuteTime": {
     "end_time": "2018-11-29T19:07:01.732053Z",
     "start_time": "2018-11-29T19:07:01.729834Z"
    }
   },
   "outputs": [],
   "source": [
    "from collections import defaultdict"
   ]
  },
  {
   "cell_type": "code",
   "execution_count": 11,
   "metadata": {
    "ExecuteTime": {
     "end_time": "2018-11-29T19:07:02.345512Z",
     "start_time": "2018-11-29T19:07:02.342845Z"
    }
   },
   "outputs": [],
   "source": [
    "lines = open('strings.csv').read().splitlines()"
   ]
  },
  {
   "cell_type": "code",
   "execution_count": 15,
   "metadata": {
    "ExecuteTime": {
     "end_time": "2018-11-29T19:07:38.460775Z",
     "start_time": "2018-11-29T19:07:38.457633Z"
    }
   },
   "outputs": [],
   "source": [
    "def identify_duplicates(phrase):\n",
    "    word_count = defaultdict(lambda : 0)\n",
    "    words = phrase.strip().split()\n",
    "    for w in words:\n",
    "        word_count[w] += 1\n",
    "    return word_count"
   ]
  },
  {
   "cell_type": "code",
   "execution_count": 20,
   "metadata": {
    "ExecuteTime": {
     "end_time": "2018-11-29T19:09:08.891239Z",
     "start_time": "2018-11-29T19:09:08.888033Z"
    }
   },
   "outputs": [
    {
     "data": {
      "text/plain": [
       "'How do I know if I am bisexual?'"
      ]
     },
     "execution_count": 20,
     "metadata": {},
     "output_type": "execute_result"
    }
   ],
   "source": [
    "lines[85]"
   ]
  },
  {
   "cell_type": "code",
   "execution_count": 21,
   "metadata": {
    "ExecuteTime": {
     "end_time": "2018-11-29T19:09:09.723084Z",
     "start_time": "2018-11-29T19:09:09.719190Z"
    }
   },
   "outputs": [
    {
     "data": {
      "text/plain": [
       "defaultdict(<function __main__.identify_duplicates.<locals>.<lambda>()>,\n",
       "            {'How': 1,\n",
       "             'do': 1,\n",
       "             'I': 2,\n",
       "             'know': 1,\n",
       "             'if': 1,\n",
       "             'am': 1,\n",
       "             'bisexual?': 1})"
      ]
     },
     "execution_count": 21,
     "metadata": {},
     "output_type": "execute_result"
    }
   ],
   "source": [
    "identify_duplicates(lines[85])"
   ]
  },
  {
   "cell_type": "code",
   "execution_count": 23,
   "metadata": {
    "ExecuteTime": {
     "end_time": "2018-11-29T19:11:59.858860Z",
     "start_time": "2018-11-29T19:11:59.855583Z"
    }
   },
   "outputs": [],
   "source": [
    "def annotate_duplicates(phrase):\n",
    "    word_count = identify_duplicates(phrase)\n",
    "    words = phrase.strip().split()\n",
    "    response = []\n",
    "    for w in words:\n",
    "        count = word_count[w]\n",
    "        word_count[w] -= 1\n",
    "        response.append(f\"{w}:{count}\")\n",
    "    return \" \".join(response)\n"
   ]
  },
  {
   "cell_type": "code",
   "execution_count": 24,
   "metadata": {
    "ExecuteTime": {
     "end_time": "2018-11-29T19:12:10.328304Z",
     "start_time": "2018-11-29T19:12:10.324942Z"
    }
   },
   "outputs": [
    {
     "data": {
      "text/plain": [
       "'How:1 do:1 I:2 know:1 if:1 I:1 am:1 bisexual?:1'"
      ]
     },
     "execution_count": 24,
     "metadata": {},
     "output_type": "execute_result"
    }
   ],
   "source": [
    "annotate_duplicates(lines[85])"
   ]
  },
  {
   "cell_type": "code",
   "execution_count": 26,
   "metadata": {
    "ExecuteTime": {
     "end_time": "2018-11-29T19:15:36.745005Z",
     "start_time": "2018-11-29T19:15:36.732935Z"
    },
    "scrolled": false
   },
   "outputs": [
    {
     "name": "stdout",
     "output_type": "stream",
     "text": [
      "Will:1 masturbation:1 make:1 me:1 unable:1 to:1 get:1 an:1 erection?:1\n",
      "Will:1 masturbation:1 affect:1 how:1 long:1 my:1 erection:1 lasts?:1\n",
      "Will:1 masturbation:1 make:1 me:1 have:1 problems:1 during:1 sex?:1\n",
      "How:1 does:1 masturbating:1 affect:1 sex?:1\n",
      "Will:1 masturbation:1 make:1 sex:1 less:1 pleasurable?:1\n",
      "Will:1 masturbation:1 make:1 sex:1 more:1 pleasurable?:1\n",
      "Will:1 masturbating:1 affect:1 my:1 orgasms?:1\n",
      "Will:1 masturbation:1 affect:1 periods?:1\n",
      "Does:1 masturbation:1 affect:1 sperm:1 count?:1\n",
      "Does:1 masturbation:1 affect:1 egg:1 count?:1\n",
      "Does:1 masturbation:1 lower:1 sperm:1 count?:1\n",
      "Does:1 masturbation:1 lower:1 egg:1 count?:1\n",
      "Can:1 masturbation:1 make:1 my:1 penis:1 bigger?:1\n",
      "Can:1 you:1 get:1 an:1 STD:1 from:1 masturbating:1 with:1 objects?:1\n",
      "Can:1 you:1 get:1 an:1 STD:1 from:1 masturbating:1 with:1 toys?:1\n",
      "Are:1 you:2 still:1 a:1 virgin:1 if:1 you:1 masturbate?:1\n",
      "Are:1 you:2 still:1 a:1 virgin:1 if:1 you:1 use:1 sex:1 toys:1 to:1 masturbate?:1\n",
      "Is:1 it:1 cheating:1 to:1 masturbate:1 if:1 I:1 am:1 in:1 a:1 relationship?:1\n",
      "Is:1 it:1 healthy:1 to:1 masturbate?:1\n",
      "Will:1 masturbation:1 make:1 my:1 period:1 heavier?:1\n",
      "Will:1 masturbation:1 make:1 my:1 period:1 irregular?:1\n",
      "Will:1 masturbation:1 delay:1 my:1 period?:1\n",
      "Will:1 masturbation:1 give:1 me:1 hairy:1 palms?:1\n",
      "Can:1 masturbation:1 cause:1 bumps?:1\n",
      "Will:1 masturbation:1 cause:1 bumps:1 on:1 your:1 genitals?:1\n",
      "Will:1 masturbation:1 make:1 me:1 blind?:1\n",
      "Will:1 masturbation:1 make:1 my:1 labia:1 grow?:1\n",
      "Does:1 masturbation:1 cause:1 acne?:1\n",
      "Can:1 masturbation:1 cause:1 herpes?:1\n",
      "Can:1 masturbation:1 cause:1 genital:1 warts?:1\n",
      "Can:1 masturbation:1 cause:1 sores?:1\n",
      "Can:1 you:1 get:1 an:1 STD:1 from:1 masturbating?:1\n",
      "Will:1 masturbation:1 make:1 my:1 period:1 lighter?:1\n",
      "Can:1 masturbation:1 cause:1 erectile:1 dysfunction?:1\n",
      "Can:1 masturbation:1 cause:1 hair:1 loss?:1\n",
      "Can:1 I:1 get:1 pregnant:1 from:1 masturbating?:1\n",
      "Does:1 masturbation:1 make:1 you:1 gay?:1\n",
      "How:1 often:1 can:1 I:1 masturbate?:1\n",
      "How:1 often:1 do:1 most:1 people:1 masturbate?:1\n",
      "How:1 much:1 masturbating:1 is:1 too:1 much?:1\n",
      "How:1 do:1 I:1 masturbate?:1\n",
      "How:1 do:1 girls:1 masturbate?:1\n",
      "Is:1 it:1 normal:1 to:1 masturbate:1 multiple:1 times:1 a:1 week?:1\n",
      "Is:1 masturbation:1 dirty?:1\n",
      "Is:1 it:1 normal:1 to:1 never:1 masturbate?:1\n",
      "I:1 have:1 never:1 masturbated.:1 Is:1 that:1 normal?:1\n",
      "Is:1 it:1 normal:1 to:1 feel:1 tired:1 after:1 you:1 masturbate?:1\n",
      "Is:1 it:1 okay:1 to:1 masturbate:1 if:1 I:1 am:1 in:1 a:1 relationship?:1\n",
      "Do:1 most:1 people:1 masturbate?:1\n",
      "Is:1 it:1 normal:1 to:1 masturbate?:1\n",
      "Is:1 it:1 bad:1 to:1 never:1 masturbate?:1\n",
      "Is:1 it:1 a:1 problem:1 if:1 I:1 do:1 not:1 masturbate:1 at:1 all?:1\n",
      "Does:1 masturbating:1 make:1 me:1 a:1 bad:1 person?:1\n",
      "Is:1 masturbation:1 wrong?:1\n",
      "Will:1 I:2 go:1 to:1 hell:1 if:1 I:1 masturbate?:1\n",
      "Is:1 it:1 a:1 sin:1 if:1 I:1 masturbate?:1\n",
      "My:1 parent:1 says:1 it:1 is:1 bad:1 to:1 masturbate.:1\n",
      "What:1 will:1 happen:1 to:1 me:1 if:1 I:1 masturbate:1 too:1 much?:1\n",
      "What:1 will:1 happen:1 to:1 me:1 if:1 I:1 never:1 masturbate?:1\n",
      "What:1 should:1 I:1 use:1 to:1 masturbate?:1\n",
      "Should:1 I:1 use:1 a:1 dildo:1 to:1 masturbate?:1\n",
      "What:1 are:1 some:1 tips:1 for:1 masturbating?:1\n",
      "I:2 have:1 a:1 problem:1 with:1 masturbation.:1 What:1 do:1 I:1 do?:1\n",
      "What:1 if:1 I:1 get:1 caught:1 masturbating?:1\n",
      "What:1 if:1 I:2 masturbate:1 and:1 I:1 do:1 not:1 have:1 an:1 orgasm?:1\n",
      "Can:1 you:1 masturbate:1 with:1 nail:1 polish:1 on?:1\n",
      "Can:1 masturbation:1 help:1 me:1 learn:1 how:1 to:1 have:1 an:1 orgasm?:1\n",
      "\"If:1 I:3 think:1 about:1 someone:1 from:1 the:1 same:1 sex:1 when:1 I:2 masturbate,:1 does:1 that:1 mean:1 I:1 am:1 gay?\":1\n",
      "Are:1 there:1 good:1 things:1 about:1 masturbating?:1\n",
      "What:1 age:1 do:1 most:1 people:1 get:1 their:1 first:1 period?:1\n",
      "What:1 is:1 a:1 normal:1 period?:1\n",
      "How:1 do:1 I:1 deal:1 with:1 really:1 bad:1 cramps?:1\n",
      "How:1 can:1 I:1 know:1 when:1 my:1 period:1 is:1 coming?:1\n",
      "How:1 do:1 I:1 use:1 a:1 tampon?:1\n",
      "Why:1 do:1 I:1 get:1 cramps:1 on:1 my:1 period?:1\n",
      "What:1 does:1 it:1 mean:1 if:1 my:1 period:1 is:1 late?:1\n",
      "Is:1 my:1 penis:1 normal?:1\n",
      "Do:1 most:1 people:1 shave:1 their:1 pubic:1 hair?:1\n",
      "Is:1 it:1 normal:1 to:1 have:1 two:1 different:1 sized:1 breasts?:1\n",
      "Is:1 it:1 normal:1 to:1 have:1 two:1 different:1 sized:1 testicles?:1\n",
      "What:1 is:1 the:1 difference:1 between:1 circumcised:1 and:1 uncircumcised:1 penises?:1\n",
      "What:1 and:1 where:1 is:1 the:1 clitoris?:1\n",
      "How:1 can:1 I:1 grow:1 my:1 penis:1 over:1 10:1 inches?:1\n",
      "What:1 are:1 the:1 effects:1 of:1 puberty:1 on:1 your:1 body?:1\n",
      "How:1 do:1 I:2 know:1 if:1 I:1 am:1 gay?:1\n",
      "How:1 do:1 I:2 know:1 if:1 I:1 am:1 bisexual?:1\n",
      "How:1 do:1 I:2 know:1 if:1 I:1 am:1 asexual?:1\n",
      "Should:1 I:1 come:1 out?:1\n",
      "What:1 do:2 I:1 do:1 if:1 a:1 friend:1 comes:1 out:1 to:1 me?:1\n",
      "How:1 should:1 I:1 tell:1 someone:1 my:1 preferred:1 pronouns?:1\n",
      "How:1 should:1 I:1 ask:1 someone:1 about:1 their:1 preferred:1 pronouns?:1\n",
      "How:1 do:1 I:1 come:1 out?:1\n",
      "Can:1 you:1 get:1 pregnant:1 from:1 dry:1 humping?:1\n",
      "Can:1 you:1 get:1 pregnant:1 if:1 your:1 partner:1 pulls:1 out?:1\n",
      "Can:1 you:2 get:1 pregnant:1 if:1 you:1 use:1 a:1 condom?:1\n",
      "I:3 am:1 worried:1 I:2 might:1 be:1 pregnant.:1 What:1 do:1 I:1 do?:1\n",
      "Can:1 you:2 get:1 pregnant:1 the:1 first:1 time:1 you:1 have:1 sex?:1\n",
      "How:1 do:1 you:1 have:1 sex:1 without:1 getting:1 pregnant?:1\n",
      "How:1 does:1 pregnancy:1 happen?:1\n",
      "How:1 do:1 I:1 deal:1 with:1 someone:1 pressuring:1 me:1 to:1 have:1 sex?:1\n",
      "How:1 do:1 I:2 know:1 if:1 I:1 am:1 ready:1 to:1 have:1 sex?:1\n",
      "What:1 is:1 the:2 right:1 age:1 to:1 have:1 sex:1 for:1 the:1 first:1 time?:1\n",
      "What:1 is:1 a:1 good:1 age:1 to:1 have:1 sex?:1\n",
      "Do:1 you:2 look:1 different:1 after:1 you:1 start:1 having:1 sex?:1\n",
      "Does:1 it:1 hurt:1 to:1 have:1 sex:1 for:1 the:1 first:1 time?:1\n",
      "How:1 do:1 I:2 know:1 if:1 I:1 am:1 in:1 abusive:1 relationship?:1\n",
      "What:1 does:1 a:1 healthy:1 relationship:1 look:1 like?:1\n",
      "Does:1 pulling:1 out:1 work?:1\n",
      "How:1 long:1 should:1 you:1 last:1 during:1 sex?:1\n",
      "Am:1 I:1 ready:1 to:1 have:1 sex?:1\n",
      "How:1 often:1 should:1 I:1 have:1 sex?:1\n",
      "Is:1 it:1 true:1 that:1 you:2 bleed:1 when:1 you:1 have:1 sex:1 for:1 the:1 first:1 time?:1\n",
      "How:1 can:1 I:1 resolve:1 a:1 relationship:1 problem:1 without:1 arguing?:1\n",
      "How:1 do:1 I:1 deal:1 with:1 a:1 problem:1 in:1 my:1 relationship?:1\n",
      "How:1 do:1 you:1 have:1 sex?:1\n",
      "How:1 to:1 get:1 into:1 a:1 relationship?:1\n",
      "How:1 do:1 you:1 get:1 out:1 of:1 a:1 bad:1 relationship?:1\n",
      "Can:1 you:1 get:1 an:1 STD:1 from:1 sex:1 toys?:1\n",
      "Can:1 you:1 get:1 an:1 STD:1 from:1 objects?:1\n",
      "How:1 do:1 condoms:1 work?:1\n",
      "How:1 do:1 I:2 know:1 if:1 I:1 have:1 an:1 STD?:1\n",
      "How:1 do:1 I:1 know:1 if:1 my:1 partner:1 has:1 an:1 STD?:1\n",
      "I:3 think:1 I:2 have:1 an:1 STD.:1 What:1 do:1 I:1 do?:1\n",
      "What:1 is:1 your:1 name?:1\n",
      "Can:1 I:1 get:1 free:1 birth:1 control?:1\n",
      "Can:1 I:1 get:1 free:1 birth:1 control:1 at:1 Planned:1 Parenthood?:1\n",
      "How:1 do:1 I:1 get:1 birth:1 control?:1\n",
      "How:1 old:1 do:1 I:1 have:1 to:2 be:1 to:1 get:1 birth:1 control?:1\n",
      "How:1 do:1 I:1 get:1 birth:1 control:1 without:1 my:1 parents:1 knowing?:1\n",
      "How:1 do:1 I:1 ask:1 my:1 parents:1 for:1 birth:1 control?:1\n",
      "How:1 much:1 is:1 birth:1 control?:1\n",
      "How:1 much:1 is:1 the:1 birth:1 control:1 pill?:1\n",
      "Can:1 you:2 still:1 get:1 pregnant:1 if:1 you:1 are:1 using:1 birth:1 control?:1\n",
      "How:1 much:1 is:1 birth:1 control:1 without:1 insurance?:1\n",
      "How:1 do:1 I:1 get:1 birth:1 control:1 without:1 insurance?:1\n",
      "How:1 much:1 does:1 the:1 morning:1 after:1 pill:1 cost?:1\n",
      "Where:1 can:1 I:1 get:1 the:1 morning:1 after:1 pill?:1\n",
      "What:1 happens:1 if:1 I:1 go:1 off:1 birth:1 control?:1\n",
      "Is:1 it:1 safe:1 to:1 switch:1 birth:1 control?:1\n",
      "Will:1 birth:1 control:1 change:1 my:1 period?:1\n",
      "How:1 much:1 does:1 it:1 cost:1 to:1 get:1 the:1 IUD:1 removed?:1\n",
      "Is:1 it:1 okay:1 to:1 use:1 the:1 birth:1 control:1 of:1 a:1 friend?:1\n",
      "What:1 if:1 I:1 miss:1 a:1 birth:1 control:1 pill?:1\n",
      "What:1 is:1 the:1 best:1 method:1 of:1 birth:1 control?:1\n",
      "What:1 do:2 I:2 do:1 if:1 I:1 have:1 a:1 crush:1 on:1 someone?:1\n",
      "What:1 is:1 an:1 IUD?:1\n",
      "Why:1 do:1 people:1 masturbate?:1\n",
      "What:1 is:1 the:1 cheapest:1 form:1 of:1 birth:1 control?:1\n",
      "What:1 is:1 birth:1 control?:1\n",
      "What:1 is:1 sex?:1\n",
      "What:1 does:1 having:1 sex:1 feel:1 like?:1\n",
      "How:1 do:1 I:1 get:1 over:1 a:1 breakup?:1\n",
      "How:1 do:1 I:1 get:1 over:1 a:1 crush?:1\n",
      "Thanks:1\n",
      "How:1 do:1 I:2 know:1 if:1 I:1 have:1 a:1 UTI?:1\n",
      "How:1 do:1 I:2 know:1 if:1 I:1 have:1 a:1 yeast:1 infection?:1\n",
      "How:1 do:1 I:1 deal:1 with:1 pimples:1 or:1 acne?:1\n",
      "How:1 much:1 is:1 it:1 for:1 an:1 annual:1 exam:1 at:1 PP?:1\n",
      "How:1 do:1 I:1 get:1 tested:1 for:1 STDs?:1\n",
      "How:1 do:1 I:1 get:1 an:1 STD:1 test:1 without:1 insurance?:1\n",
      "How:1 do:1 I:1 get:1 my:1 partner:1 on:1 birth:1 control?:1\n",
      "How:1 effective:1 is:1 the:1 birth:1 control:1 pill?:1\n",
      "How:1 much:1 does:1 it:1 cost:1 to:1 get:1 the:1 birth:1 control:1 implant:1 removed?:1\n",
      "Can:1 I:1 get:1 the:1 birth:1 control:1 implant:1 removed:1 without:1 insurance?:1\n",
      "Is:1 my:1 vagina:1 normal?:1\n",
      "Can:1 using:1 birth:1 control:1 make:1 it:1 harder:1 to:1 get:1 pregnant:1 in:1 the:1 future?:1\n",
      "Do:1 girls:1 masturbate?:1\n",
      "Do:1 guys:1 masturbate:1 more:1 than:1 girls?:1\n",
      "How:1 effective:1 is:1 the:1 Nuvaring?:1\n",
      "Does:1 masturbation:1 have:1 side:1 effects?:1\n",
      "What:1 is:1 masturbation?:1\n",
      "Are:1 you:2 still:1 a:1 virgin:1 if:1 you:1 use:1 tampons?:1\n",
      "What:1 if:1 I:1 cannot:1 feel:1 anything:1 during:1 sex?:1\n",
      "What:1 does:1 an:1 orgasm:1 feel:1 like?:1\n",
      "What:1 is:1 an:1 orgasm?:1\n",
      "What:1 is:1 puberty?:1\n",
      "How:1 do:1 I:1 get:1 PReP?:1\n",
      "How:1 do:1 I:1 get:1 my:1 crush:1 to:1 like:1 me?:1\n",
      "Am:1 I:1 too:1 young:1 to:1 masturbate?:1\n",
      "When:1 should:1 I:1 take:1 a:1 pregnancy:1 test?:1\n",
      "\"What:1 does:1 \"\"turned:1 on\"\":1 or:1 \"\"horny\"\":1 mean?\":1\n",
      "Why:1 do:1 people:1 get:1 turned:1 on:1 or:1 horny?:1\n",
      "What:1 birth:1 control:1 options:1 does:1 Planned:1 Parenthood:1 offer?:1\n",
      "How:1 much:1 does:1 the:1 abortion:1 pill:1 cost?:1\n",
      "Can:1 I:1 get:1 a:1 free:1 STD:1 test:1 at:1 Planned:1 Parenthood?:1\n",
      "Can:1 you:1 masturbate:1 on:1 your:1 period?:1\n",
      "How:1 often:1 should:1 I:1 check:1 my:1 IUD:1 strings?:1\n",
      "What:1 do:1 I:1 need:1 to:2 bring:1 to:1 an:1 appointment:1 at:1 Planned:1 Parenthood?:1\n",
      "How:1 do:1 I:1 get:1 rid:1 of:2 or:1 change:1 the:1 smell:1 of:1 my:1 vagina?:1\n",
      "What:1 can:1 I:2 do:2 about:1 hair:1 that:1 I:1 do:1 not:1 want?:1\n",
      "How:1 does:1 masturbation:1 work?:1\n",
      "Is:1 it:1 okay:1 to:1 tell:2 or:1 not:1 tell:1 my:1 partner:1 that:1 I:1 masturbate?:1\n",
      "What:1 is:1 consent?:1\n",
      "What:1 do:2 I:2 do:1 if:1 I:1 am:1 being:1 bullied?:1\n",
      "Does:1 Planned:1 Parenthood:1 offer:1 gender-affirming:1 hormone:1 therapy?:1\n",
      "What:1 does:1 it:1 mean:1 to:1 be:1 transgender?:1\n",
      "How:1 do:1 I:1 book:1 a:1 Planned:1 Parenthood:1 appointment?:1\n",
      "How:1 much:1 is:1 the:1 abortion:1 pill?:1\n",
      "What:1 do:2 I:2 do:1 if:1 it:1 hurts:1 when:1 I:1 have:1 sex?:1\n",
      "What:1 do:2 I:2 do:1 if:1 it:1 burns:1 when:1 I:1 pee?:1\n",
      "What:1 does:1 it:1 mean:1 if:1 my:1 period:1 lasts:1 longer:1 than:1 normal?:1\n",
      "Can:1 you:1 get:1 pregnant:1 without:1 having:1 sex?:1\n",
      "How:1 long:1 does:1 a:1 UTI:1 last:1 for?:1\n",
      "What:1 does:1 it:1 mean:1 if:1 my:1 vaginal:1 discharge:1 is:1 a:1 different:1 color?:1\n",
      "What:1 do:2 I:2 do:1 if:1 I:1 have:1 bumps:1 or:1 itching:1 around:1 my:1 genitals?:1\n",
      "Can:1 you:1 get:1 an:1 STD:1 from:1 oral:1 sex?:1\n",
      "What:1 makes:1 someone:1 good:1 at:1 sex?:1\n",
      "How:1 much:1 do:1 condoms:1 cost?:1\n",
      "What:1 is:1 a:1 blowjob?:1\n",
      "What:1 is:1 porn?:1\n",
      "Is:1 it:1 bad:1 to:1 watch:1 porn?:1\n",
      "What:1 is:1 sexting?:1\n",
      "Is:1 it:1 okay:1 to:1 swallow:1 semen:1 after:1 oral:1 sex?:1\n",
      "Can:1 you:2 go:1 to:1 Planned:1 Parenthood:1 if:1 you:1 are:1 under:1 18?:1\n",
      "Can:1 a:1 doctor:1 tell:1 if:1 you:1 are:1 sexually:1 active?:1\n",
      "Do:1 I:1 need:1 parental:1 permission:1 to:1 get:1 tested:1 or:1 treated:1 for:1 STDs?:1\n",
      "Can:1 you:1 get:1 an:1 STD:1 by:1 kissing:1 or:1 sharing:1 drinks?:1\n",
      "What:1 do:2 I:2 do:1 if:1 I:1 can’t:1 get:1 an:1 erection?:1\n",
      "Can:1 women:1 ejaculate?:1\n",
      "How:1 long:1 can:1 sperm:1 live:1 outside:1 the:1 body?:1\n",
      "Is:1 my:1 vaginal:1 discharge:1 normal?:1\n",
      "What:1 do:2 I:1 do:1 if:1 my:1 partner:1 will:1 not:1 use:1 a:1 condom?:1\n",
      "What:1 age:1 do:1 people:1 usually:1 start:1 masturbating?:1\n",
      "What:1 are:1 the:1 signs:1 of:1 pregnancy?:1\n",
      "Why:1 is:1 my:1 sex:1 drive:1 low?:1\n",
      "Will:1 birth:1 control:1 help:1 my:1 acne?:1\n",
      "Can:1 you:1 get:1 pregnant:1 from:1 a:1 toilet:1 seat?:1\n",
      "Can:1 you:1 get:1 an:1 STD:1 from:1 a:1 toilet:1 seat?:1\n",
      "Can:1 you:1 get:1 pregnant:1 through:1 clothing?:1\n",
      "What:1 services:1 does:1 Planned:1 Parenthood:1 offer?:1\n",
      "How:1 can:1 I:1 get:1 health:1 insurance?:1\n",
      "Where:1 do:1 I:1 get:1 a:1 pregnancy:1 test?:1\n",
      "How:1 do:1 I:1 know:1 if:1 someone:1 is:1 gay?:1\n",
      "How:1 do:1 I:1 know:1 if:1 someone:1 is:1 trans?:1\n",
      "What:1 if:1 I:1 am:1 not:1 interested:1 in:1 having:1 sex?:1\n",
      "What:1 is:1 asexuality?:1\n",
      "How:1 accurate:1 are:1 pregnancy:1 tests?:1\n",
      "Could:1 my:1 pregnancy:1 test:1 results:1 be:1 wrong?:1\n",
      "What:1 if:1 I:1 change:1 my:1 mind:1 during:1 sex?:1\n",
      "\"If:1 I:2 have:1 had:1 sex:1 with:1 someone:1 before,:1 can:1 I:1 say:1 no?\":1\n",
      "Do:1 I:1 need:1 to:1 give:1 consent:1 if:1 someone:1 is:1 my:1 partner?:1\n",
      "What:1 if:1 I:1 am:1 conflicted:1 about:1 having:1 sex:1 with:1 someone?:1\n",
      "How:1 do:1 I:1 ask:1 for:1 consent?:1\n",
      "Do:1 you:1 have:1 to:1 ask:1 for:1 consent?:1\n",
      "What:1 if:2 I:1 am:1 not:1 sure:1 if:1 someone:1 is:1 consenting:1 to:1 something?:1\n",
      "How:1 do:1 you:1 ask:1 for:1 consent:1 without:1 killing:1 the:1 mood?:1\n",
      "What:1 is:1 sexual:1 coercion?:1\n",
      "Can:1 I:1 be:2 transgender:1 and:1 also:1 be:1 into:1 any:1 gender?:1\n",
      "What:1 does:1 it:1 mean:1 to:1 be:1 intersex?:1\n",
      "What:1 is:1 the:1 best:1 brand:1 for:1 condoms?:1\n",
      "What:1 is:1 the:1 best:1 brand:1 for:1 pregnancy:1 tests?:1\n",
      "When:1 will:1 I:1 get:1 my:1 period?:1\n",
      "Can:1 my:2 doctor:1 tell:1 my:1 parents:1 I:1 am:1 on:1 birth:1 control?:1\n",
      "Can:1 my:2 doctor:1 tell:1 my:1 parents:1 I:1 am:1 having:1 sex?:1\n",
      "Can:1 my:2 doctor:1 tell:1 my:1 parents:1 about:1 a:1 pregnancy:1 test?:1\n",
      "Can:1 my:2 doctor:1 tell:1 my:1 parents:1 if:1 I:1 have:1 an:1 STD?:1\n",
      "What:1 is:1 HPV?:1\n",
      "Can:1 HPV:1 cause:1 cancer?:1\n",
      "How:1 do:1 I:2 know:1 if:1 I:1 have:1 HPV?:1\n",
      "How:1 can:1 I:1 get:1 the:1 HPV:1 vaccine?:1\n",
      "What:1 is:1 an:1 abortion?:1\n",
      "What:1 is:1 non-binary?:1\n",
      "What:1 is:1 gender:1 non-conforming?:1\n",
      "What:1 is:1 genderqueer?:1\n",
      "What:1 is:1 cisgender?:1\n",
      "What:1 is:1 HIV?:1\n",
      "What:1 is:1 AIDS?:1\n",
      "Is:1 HIV:1 the:1 same:1 as:1 AIDS?:1\n",
      "How:1 do:1 you:1 get:1 HIV?:1\n",
      "What:1 is:1 PrEP?:1\n",
      "What:1 is:1 PEP?:1\n",
      "Should:1 I:1 go:1 on:1 PrEP?:1\n",
      "What:1 is:1 undetectable?:1\n",
      "What:1 is:1 PCOS?:1\n",
      "How:1 do:1 I:2 know:1 if:1 I:1 have:1 PCOS?:1\n",
      "What:1 is:1 endometriosis?:1\n",
      "How:1 do:1 I:2 know:1 if:1 I:1 have:1 endometriosis?:1\n",
      "Does:1 Planned:1 Parenthood:1 offer:1 trans:1 services?:1\n",
      "What:1 are:1 puberty:1 blockers?:1\n",
      "Does:1 Planned:1 Parenthood:1 offer:1 puberty:1 blockers?:1\n",
      "Can:1 you:1 get:1 pregnant:1 on:1 your:1 period?:1\n",
      "How:1 do:1 I:2 know:1 I:1 am:1 in:1 love?:1\n",
      "Can:1 birth:1 control:1 make:1 my:1 period:1 better?:1\n",
      "Are:1 Planned:1 Parenthood:1 health:1 services:1 free?:1\n"
     ]
    }
   ],
   "source": [
    "for line in lines:\n",
    "    print(annotate_duplicates(line))"
   ]
  },
  {
   "cell_type": "code",
   "execution_count": null,
   "metadata": {},
   "outputs": [],
   "source": []
  }
 ],
 "metadata": {
  "hide_input": false,
  "kernelspec": {
   "display_name": "Python 3",
   "language": "python",
   "name": "python3"
  },
  "language_info": {
   "codemirror_mode": {
    "name": "ipython",
    "version": 3
   },
   "file_extension": ".py",
   "mimetype": "text/x-python",
   "name": "python",
   "nbconvert_exporter": "python",
   "pygments_lexer": "ipython3",
   "version": "3.7.0"
  },
  "toc": {
   "base_numbering": 1,
   "nav_menu": {},
   "number_sections": true,
   "sideBar": true,
   "skip_h1_title": false,
   "title_cell": "Table of Contents",
   "title_sidebar": "Contents",
   "toc_cell": false,
   "toc_position": {},
   "toc_section_display": true,
   "toc_window_display": false
  }
 },
 "nbformat": 4,
 "nbformat_minor": 2
}
